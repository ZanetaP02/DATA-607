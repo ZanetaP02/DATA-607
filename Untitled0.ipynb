{
  "nbformat": 4,
  "nbformat_minor": 0,
  "metadata": {
    "colab": {
      "provenance": [],
      "authorship_tag": "ABX9TyNEZL7PZBPC8OVq+n2qCLx5",
      "include_colab_link": true
    },
    "kernelspec": {
      "name": "python3",
      "display_name": "Python 3"
    },
    "language_info": {
      "name": "python"
    }
  },
  "cells": [
    {
      "cell_type": "markdown",
      "metadata": {
        "id": "view-in-github",
        "colab_type": "text"
      },
      "source": [
        "<a href=\"https://colab.research.google.com/github/ZanetaP02/DATA-607/blob/main/Untitled0.ipynb\" target=\"_parent\"><img src=\"https://colab.research.google.com/assets/colab-badge.svg\" alt=\"Open In Colab\"/></a>"
      ]
    },
    {
      "cell_type": "code",
      "execution_count": null,
      "metadata": {
        "colab": {
          "base_uri": "https://localhost:8080/"
        },
        "id": "X-vgIFx5n7yq",
        "outputId": "f013317f-87cc-4b7a-8b0c-d548cb611907",
        "collapsed": true
      },
      "outputs": [
        {
          "output_type": "stream",
          "name": "stdout",
          "text": [
            "Enter the score for test 1: 67\n",
            "Enter the score for test 2: 73\n",
            "Enter the score for test 3: 89\n",
            "The average score is 76.33333333333333\n",
            "That is a great average!\n",
            "Enter the length of the first rectangle: 36\n",
            "Enter the width of the first rectangle: 89\n",
            "Enter the length of the second rectangle: 67\n",
            "Enter the width of the second rectangle: 139\n",
            "The area of the first rectangle is 3204.0\n",
            "The area of the second rectangle is 9313.0\n",
            "Enter first name: Zaneta\n",
            "Enter age: 35\n",
            "Happy birthday, Zaneta! You are 35 years old today!\n"
          ]
        }
      ],
      "source": [
        "#Q1 Fix all the syntax and logical errors in the given source code\n",
        "#add comments to explain your reasoning\n",
        "\n",
        "# This program gets three test scores and displays their average.  It congratulates the user if the\n",
        "# average is a high score. The high score variable holds the value that is considered a high score.\n",
        "\n",
        "HIGH_SCORE = 95\n",
        "\n",
        "# Get the test scores.\n",
        "test1 = input('Enter the score for test 1: ')\n",
        "test2 = input('Enter the score for test 2: ')\n",
        "test3 = input('Enter the score for test 3: ')\n",
        "# Convert the test scores to integers before calculation.\n",
        "test1 = int(test1)\n",
        "test2 = int(test2)\n",
        "test3 = int(test3)\n",
        "# Calculate the average test score.\n",
        "average = (test1 + test2 + test3) / 3\n",
        "# Print the average.\n",
        "print('The average score is', average)\n",
        "# If the average is a high score,\n",
        "# congratulate the user.\n",
        "if average >= HIGH_SCORE:\n",
        "    print('Congratulations!')\n",
        "print('That is a great average!')\n",
        "\n",
        "#Q2\n",
        "#The area of a rectangle is the rectangle’s length times its width. Write a program that asks for the length and width of two rectangles and prints to the user the area of both rectangles.\n",
        "# Get the length and width of the first rectangle.\n",
        "length1 = float(input(\"Enter the length of the first rectangle: \"))\n",
        "width1 = float(input(\"Enter the width of the first rectangle: \"))\n",
        "\n",
        "# Get the length and width of the second rectangle.\n",
        "length2 = float(input(\"Enter the length of the second rectangle: \"))\n",
        "width2 = float(input(\"Enter the width of the second rectangle: \"))\n",
        "\n",
        "# Calculate the area of the first rectangle.\n",
        "area1 = length1 * width1\n",
        "\n",
        "# Calculate the area of the second rectangle.\n",
        "area2 = length2 * width2\n",
        "\n",
        "# Print the areas of both rectangles.\n",
        "print(\"The area of the first rectangle is\", area1)\n",
        "print(\"The area of the second rectangle is\", area2)\n",
        "\n",
        "#Q3\n",
        "#Ask a user to enter their first name and their age and assign it to the variables name and age.\n",
        "#The variable name should be a string and the variable age should be an int.\n",
        "\n",
        "#Using the variables name and age, print a message to the user stating something along the lines of:\n",
        "# \"Happy birthday, name!  You are age years old today!\"\n",
        "\n",
        "# Get the user's name.\n",
        "name = input(\"Enter first name: \")\n",
        "\n",
        "# Get the user's age.\n",
        "age = int(input(\"Enter age: \"))\n",
        "\n",
        "# Print the birthday message.\n",
        "print(f\"Happy birthday, {name}! You are {age} years old today!\")\n",
        "\n"
      ]
    }
  ]
}